{
 "cells": [
  {
   "cell_type": "markdown",
   "metadata": {},
   "source": [
    "# TUTORIAL DOCKER\n",
    "## Por Sebastián Lara Barría\n",
    "### Arquitectura de Software, II Semestre 2020, UACh"
   ]
  },
  {
   "cell_type": "markdown",
   "metadata": {},
   "source": [
    "![Logo de Docker](https://upload.wikimedia.org/wikipedia/commons/7/79/Docker_%28container_engine%29_logo.png \"Docker logo\")\n",
    "\n"
   ]
  },
  {
   "cell_type": "markdown",
   "metadata": {},
   "source": [
    "# Introducción\n",
    "\n",
    "###  ¿Que es Docker?\n",
    "\n",
    "Docker es una plataforma abierta para que desarrolladores y administradores de sistemas desarrollen, envíen y ejecuten aplicaciones distribuidas, ya sea en computadoras portátiles, maquinas virtuales de centros de datos o en la nube.\n",
    "\n",
    "Docker empaqueta software en “contenedores” que incluyen en ellos todo lo necesario para que dicho software se ejecute, incluidas librerías. Con Docker se puede implementar y ajustar la escala de aplicaciones de una forma rápida en cualquier entorno con la garantía de que el código se ejecutará.\n",
    "\n",
    "### Conceptos previos necesarios:\n",
    "\n",
    "1. Imagen\n",
    "\n",
    "    * Una imagen representa la captura de un estado particular de un contenedor.\n",
    "    * Dentro de una imagen debe especificarse todo lo que debe componer al contenedor en estado de ejecución. Pueden incluirse tantas aplicaciones como se desee.\n",
    "    * Las imágenes manejan herencia, podemos partir de una imagen padre y heredarla para heredar así también todos sus componentes.\n",
    "    * Existe un repositorio de imágenes que es público, denominado Docker Hub. En él se pueden descargar imágenes preconfiguradas con diferentes componentes (bases de datos, índices, servidores de aplicaciones, etc).\n",
    "\n",
    "2. Contenedor\n",
    "\n",
    "    * Un contenedor es el estado en ejecución de una imagen.\n",
    "    * A partir de una imagen pueden ejecutarse uno o varios contenedores, los mismos pueden agregarse o quitarse dinámicamente.\n",
    "    * Se pueden realizar cambios sobre un contenedor determinado y guardar los cambios realizando un “commit” en el repositorio de Docker. Al realizar un commit de un estado particular de un contenedor, el repositorio de docker asignará un nuevo número de versión y creará una nueva imagen con estos cambios.\n",
    "\n",
    "3. DockerFile\n",
    "\n",
    "    * Archivo de texto que contiene todos los comandos necesarios que se correrán durante la creación y ejecución del contenedor\n",
    "    * Utilizando docker build se creará una imagen partiendo de un determinado dockerfile.\n",
    "\n",
    "4. Docker Registry\n",
    "\n",
    "    * El Docker Registry se utiliza como repositorio de imágenes.\n",
    "    * Se puede crear un docker registry propietario de cualquier proyecto o bien se puede utilizar alguno público\n",
    "    * Ejemplos de Docker Registry públicos son Docker Hub (gratuito) y Docker Trusted Registry (pagado)\n",
    "    \n",
    "    ![Entendiendo Docker](https://www.dataart.com.ar/media/2819748/docker2.png \"Idea Docker\")\n",
    "\n",
    "\n",
    "### Ventajas y Desventajas\n",
    "\n",
    "#### Ventajas:\n",
    "\n",
    "* Consistencia de versiones: Dado que las mismas imágenes que se prueban en desarrollo son las que terminan desplegándose en producción, es muy difícil que puedan darse problemas referidos a control de versiones, códigos inesperados, etc.\n",
    "* Se reduce considerablemente el tiempo de despliegue y actualización de las aplicaciones.\n",
    "* Los contenedores pueden desplegarse fácilmente en entornos de integración continua.\n",
    "* Es ideal para cuando se pretende obtener un entorno distribuido y clusterizado.\n",
    "\n",
    "#### Desventajas:\n",
    "\n",
    "* Docker fue inicialmente diseñado para usarse en entornos Linux. En lo sucesivo surgieron clientes para Windows y MacOS, pero su naturaleza aún sigue siendo basada en LXC (Linux Containers).\n",
    "    \n",
    "* La curva de aprendizaje puede ser algo complicada y exigente en un principio, pero a la larga es un tiempo que se termina amortizando con el ahorro en tiempos de re-trabajo y puesta a punto por cada despliegue en los diferentes entornos.\n",
    "\n",
    "\n",
    "\n",
    "\n",
    "\n",
    "# Requisitos:\n",
    "\n",
    "\n",
    "* Un servidor de Ubuntu 20.04 configurado mediante la guía de configuración inicial para servidores de Ubuntu 20.04, un usuario sudo no root y un firewall.\n",
    "* Una cuenta de Docker Hub, si desea crear sus propias imágenes e introducirlas en Docker Hub.\n",
    "\n",
    "\n",
    "\n",
    "\n"
   ]
  },
  {
   "cell_type": "markdown",
   "metadata": {},
   "source": [
    "## Instalación en Ubuntu 20.04 \n",
    "\n"
   ]
  },
  {
   "cell_type": "markdown",
   "metadata": {},
   "source": [
    "**Primero abrimos una terminal (Ctrl+Alt+T)y actualizamos su lista de paquetes existente:**\n",
    "\n",
    "    sudo apt update\n",
    "\n",
    " \n",
    "\n",
    "__A continuación, instale algunos paquetes de requisitos previos que permitan a apt usar paquetes a través de HTTPS:__\n",
    "\n",
    "    sudo apt install apt-transport-https ca-certificates curl software-properties-common\n",
    "\n",
    " \n",
    "\n",
    "**Luego, añada la clave de GPG para el repositorio oficial de Docker en su sistema:**\n",
    "\n",
    "    curl -fsSL https://download.docker.com/linux/ubuntu/gpg | sudo apt-key add -\n",
    "\n",
    " \n",
    "\n",
    "**Agregue el repositorio de Docker a las fuentes de APT:**\n",
    "\n",
    "    sudo add-apt-repository \"deb [arch=amd64] https://download.docker.com/linux/ubuntu focal stable\"\n",
    "\n",
    " \n",
    "\n",
    "**A continuación, actualice el paquete de base de datos con los paquetes de Docker del repositorio recién agregado:**\n",
    "\n",
    "    sudo apt update\n",
    "\n",
    " \n",
    "\n",
    "**Asegúrese de estar a punto de realizar la instalación desde el repositorio de Docker en lugar del repositorio predeterminado de Ubuntu:**\n",
    "\n",
    "    apt-cache policy docker-ce\n"
   ]
  },
  {
   "cell_type": "markdown",
   "metadata": {},
   "source": [
    "    sudo apt install docker-ce\n",
    "\n",
    " \n",
    "\n",
    "Con esto, Docker quedará instalado, el demonio se iniciará y el proceso se habilitará para ejecutarse en el inicio. Compruebe que funcione:\n",
    "\n",
    "    sudo systemctl status docker\n",
    "\n",
    " \n",
    "\n",
    "El resultado debe ser similar al siguiente, y mostrar que el servicio está activo y en ejecución:\n",
    "\n",
    "```ubuntu\n",
    "Output\n",
    "● docker.service - Docker Application Container Engine\n",
    "     Loaded: loaded (/lib/systemd/system/docker.service; enabled; vendor preset: enabled)\n",
    "     Active: active (running) since Tue 2020-05-19 17:00:41 UTC; 17s ago\n",
    "TriggeredBy: ● docker.socket\n",
    "       Docs: https://docs.docker.com\n",
    "   Main PID: 24321 (dockerd)\n",
    "      Tasks: 8\n",
    "     Memory: 46.4M\n",
    "     CGroup: /system.slice/docker.service\n",
    "             └─24321 /usr/bin/dockerd -H fd:// --containerd=/run/containerd/containerd.sock\n",
    "```"
   ]
  },
  {
   "cell_type": "code",
   "execution_count": null,
   "metadata": {},
   "outputs": [],
   "source": []
  },
  {
   "cell_type": "code",
   "execution_count": null,
   "metadata": {},
   "outputs": [],
   "source": []
  }
 ],
 "metadata": {
  "kernelspec": {
   "display_name": "Python 3",
   "language": "python",
   "name": "python3"
  },
  "language_info": {
   "codemirror_mode": {
    "name": "ipython",
    "version": 3
   },
   "file_extension": ".py",
   "mimetype": "text/x-python",
   "name": "python",
   "nbconvert_exporter": "python",
   "pygments_lexer": "ipython3",
   "version": "3.7.7"
  }
 },
 "nbformat": 4,
 "nbformat_minor": 4
}
