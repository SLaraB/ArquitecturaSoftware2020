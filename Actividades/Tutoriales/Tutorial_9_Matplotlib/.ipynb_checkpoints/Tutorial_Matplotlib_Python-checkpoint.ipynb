{
 "cells": [
  {
   "cell_type": "markdown",
   "metadata": {},
   "source": [
    "# TUTORIAL LIBRERÍA MATPLOTLIB DE PYTHON\n",
    "## Por Sebastián Lara Barría\n",
    "### Arquitectura de Software, II Semestre 2020, UACh"
   ]
  },
  {
   "cell_type": "markdown",
   "metadata": {},
   "source": [
    "\n",
    "\n",
    "![Logo de Python](https://anthoncode.com/wp-content/uploads/2019/01/python-logo-png.png \"python logo\")\n",
    "\n",
    "![Logo de matplotlib](https://matplotlib.org/3.1.0/_images/sphx_glr_logos2_003.png \"matplotlib logo\")\n"
   ]
  },
  {
   "cell_type": "markdown",
   "metadata": {},
   "source": [
    "# Introducción\n",
    "\n",
    "###  ¿Que es Python?\n",
    "\n",
    "Python es un lenguaje de programación interpretado de tipado dinámico cuya filosofía hace hincapié en una sintaxis que favorezca un código legible. Se trata de un lenguaje de programación multiparadigma y disponible en varias plataformas.\n",
    "\n",
    "Dicho de otro modo, Python es:\n",
    "\n",
    "   * __Interpretado:__ Se ejecuta sin necesidad de ser procesado por el compilador y se detectan los errores en tiempo de ejecución.\n",
    "   * __Multiparadigma:__ Soporta programación funcional, programación imperativa y programación orientada a objetos.\n",
    "   * __Tipado dinámico:__ Las variables se comprueban en tiempo de ejecución.\n",
    "   * __Multiplataforma:__ disponible para plataformas de Windows, Linux o MAC.\n",
    "   * __Gratuito:__ No dispone de licencia para programar.\n",
    "### ¿Para que sirve la librería matplotlib?\n",
    "\n",
    "\n",
    "\n",
    "\n",
    "### Ventajas y Desventajas\n",
    "\n",
    "#### Ventajas:\n",
    "\n",
    "\n",
    "* Simplificado y rápido\n",
    "    - Este lenguaje simplifica mucho la programación “hace que te adaptes a un modo de lenguaje de programación, Python te propone un patrón”. Es un gran lenguaje para scripting, si usted requiere algo rápido (en el sentido de la ejecución del lenguaje), con unas cuantas líneas ya está resuelto.\n",
    "    \n",
    "    \n",
    "* Elegante y flexible\n",
    "    - El lenguaje le da muchas herramientas, si usted quiere listas de varios tipo de datos, no hace falta que declares cada tipo de datos. Es un lenguaje tan flexible usted no se preocupa tanto por los detalles.\n",
    "    \n",
    "    \n",
    "* Programación sana y productiva\n",
    "    - Programar en Python se convierte en un estilo muy sano de programar: es sencillo de aprender, direccionado a las reglas perfectas, le hace como dependiente de mejorar, cumplir las reglas, el uso de las lineas, de variables”. Ademas es un lenguaje que fue hecho con productividad en mente, es decir, Python le hace ser mas productivo, le permite entregar en los tiempos que me requieren.\n",
    "    \n",
    "    \n",
    "* Ordenado y limpio\n",
    "    - El orden que mantiene Python, es de lo que más le gusta a sus usuarios, es muy legible, cualquier otro programador lo puede leer y trabajar sobre el programa escrito en Python. Los módulos están bien organizados, a diferencia de otros lenguajes.\n",
    "    \n",
    "    \n",
    "* Portable\n",
    "    - Es un lenguaje muy portable (ya sea en Mac, Linux o Windows) en comparación con otros lenguajes. La filosofía de baterías incluidas, son las librerías que más usted necesita al día a día de programación, ya están dentro del interprete, no tiene la necesidad de instalarlas adicionalmente con en otros lenguajes.\n",
    "    \n",
    "    \n",
    "* Comunidad\n",
    "    - Algo muy importante para el desarrollo de un lenguaje es la comunidad, la misma comunidad de Python cuida el lenguaje y casi todas las actualizaciones se hacen de manera democrática.\n",
    "\n",
    "\n",
    "#### Desventajas:\n",
    "\n",
    "* Curva de aprendizaje\n",
    "    - La “curva de aprendizaje cuando ya estás en la parte web no es tan sencilla”.\n",
    "    \n",
    "    \n",
    "* Hosting\n",
    "    - La mayoría de los servidores no tienen soporte a Python, y si lo soportan, la configuración es un poco difícil.\n",
    "    \n",
    "    \n",
    "* Librerías incluidas\n",
    "    - Algunas librerías que trae por defecto no son del gusto de amplio de la comunidad, y optan a usar librerías de terceros. \n",
    "\n",
    "\n",
    "## Requisitos para realizare el tutorial:\n",
    "\n",
    "* Requisitos mínimos:\n",
    "    - Computadora con Ubuntu 16.04 o posterior\n",
    "    - Python3\n",
    "    - Pip\n",
    "    - Numpy\n",
    "    - Matplotlib\n",
    "    - Pandas\n",
    "    \n",
    "\n"
   ]
  },
  {
   "cell_type": "markdown",
   "metadata": {},
   "source": [
    "### Instalación en Ubuntu 20.04\n",
    "\n",
    "#### Python 3.7 , Pip3 y  Matplotlib \n",
    "\n",
    "Puedes fácilmente instalar Python 3.7 con los siguientes  comandos en una terminal abierta (Ctrl+Alt+T):\n",
    "\n",
    "``` ubuntu\n",
    "$ sudo apt-get update\n",
    "$ sudo apt-get install python3.7\n",
    "```\n",
    "Verificamos que se haya instalado correctamente con\n",
    "\n",
    "``` ubuntu\n",
    "$ python --version\n",
    "```\n",
    "\n",
    "Lo cual deberia mostrar en la terminal lo siguiente:\n",
    "\n",
    "``` ubuntu\n",
    "$ Python 3.7.7\n",
    "```\n",
    "\n",
    "Para instalar la libreríá Matplotlib primero necesitamos Pip3 de Python, para ello en una terminal ejecutamos el siguiente comando: \n",
    "\n",
    "``` ubuntu\n",
    "$ apt install python3-pip3\n",
    "```\n",
    "\n",
    "    Luego procedemos a instalar la librería con el siguiente comando, además de pandas necesario para manejar archivos con información (excel, csv,etc) y numpy para manejo de operaciones númericas:\n",
    "\n",
    "``` ubuntu\n",
    "$  pip3 install matplotlib\n",
    "$  pip3 install pandas\n",
    "$  pip3 install numpy\n",
    "```\n",
    "\n",
    "Finalizado esto podemos utilizar python3.7 , pip3,pandas,numpy y matplotlib\n",
    "\n",
    "\n"
   ]
  },
  {
   "cell_type": "markdown",
   "metadata": {},
   "source": [
    "## Breve introducción a Python\n",
    "\n",
    "### * Operaciones aritmeticas: \n"
   ]
  },
  {
   "cell_type": "code",
   "execution_count": 8,
   "metadata": {},
   "outputs": [
    {
     "data": {
      "text/plain": [
       "8"
      ]
     },
     "execution_count": 8,
     "metadata": {},
     "output_type": "execute_result"
    }
   ],
   "source": [
    "5+3"
   ]
  },
  {
   "cell_type": "code",
   "execution_count": 9,
   "metadata": {},
   "outputs": [
    {
     "data": {
      "text/plain": [
       "8"
      ]
     },
     "execution_count": 9,
     "metadata": {},
     "output_type": "execute_result"
    }
   ],
   "source": [
    "10-2"
   ]
  },
  {
   "cell_type": "code",
   "execution_count": 10,
   "metadata": {},
   "outputs": [
    {
     "data": {
      "text/plain": [
       "40"
      ]
     },
     "execution_count": 10,
     "metadata": {},
     "output_type": "execute_result"
    }
   ],
   "source": [
    "8*5"
   ]
  },
  {
   "cell_type": "code",
   "execution_count": 13,
   "metadata": {},
   "outputs": [
    {
     "data": {
      "text/plain": [
       "25.0"
      ]
     },
     "execution_count": 13,
     "metadata": {},
     "output_type": "execute_result"
    }
   ],
   "source": [
    "50/2"
   ]
  },
  {
   "cell_type": "markdown",
   "metadata": {},
   "source": [
    "### * Operaciones booleanas:\n",
    "\n"
   ]
  },
  {
   "cell_type": "code",
   "execution_count": 14,
   "metadata": {},
   "outputs": [
    {
     "data": {
      "text/plain": [
       "False"
      ]
     },
     "execution_count": 14,
     "metadata": {},
     "output_type": "execute_result"
    }
   ],
   "source": [
    "5<3"
   ]
  },
  {
   "cell_type": "code",
   "execution_count": 15,
   "metadata": {},
   "outputs": [
    {
     "data": {
      "text/plain": [
       "True"
      ]
     },
     "execution_count": 15,
     "metadata": {},
     "output_type": "execute_result"
    }
   ],
   "source": [
    "5>3"
   ]
  },
  {
   "cell_type": "markdown",
   "metadata": {},
   "source": [
    "### * Sentencias If/Else,While,For:"
   ]
  },
  {
   "cell_type": "markdown",
   "metadata": {},
   "source": [
    "**Sentencia If/Else**: Estas sentencias corresponden a las sentencias básicas de todo lenguaje de programación, la cual ejecuta ciertas operaciones si en resultado es True dentro de su argumento o hace otra operacion en caso de ser False ."
   ]
  },
  {
   "cell_type": "code",
   "execution_count": 31,
   "metadata": {},
   "outputs": [
    {
     "name": "stdout",
     "output_type": "stream",
     "text": [
      "5\n",
      "7\n",
      "Felicidades\n"
     ]
    }
   ],
   "source": [
    "from random import randrange #importamos libreria randrange desde random \n",
    "\n",
    "n = randrange(10) #creamos un numero  aleatorio  en la variable n \n",
    "m = randrange(10) #creamos otro numero aleatorio en la variable m\n",
    "print(n) #imprimimos el primer numero\n",
    "print(m) #imprimimos el segundo numero\n",
    "if (n < m ): #si el primer numero es menor al segundo, entonces \n",
    "    print(\"Felicidades\") #imprimimos felicidades\n",
    "else: #sino, entonces\n",
    "    print(\"Siga participando\") #imprimimos siga participando\n",
    "\n"
   ]
  },
  {
   "cell_type": "markdown",
   "metadata": {},
   "source": [
    "**Sentencia While:** Esta sentencia corresponde a mientras (while) ocurre lo que está dentro de los parametros entegados se ejecutan las lineas dentro del While"
   ]
  },
  {
   "cell_type": "code",
   "execution_count": 30,
   "metadata": {},
   "outputs": [
    {
     "name": "stdout",
     "output_type": "stream",
     "text": [
      "5\n",
      "la variable c:  0  es menor al numero aleatorio n :  5\n",
      "la variable c:  1  es menor al numero aleatorio n :  5\n",
      "la variable c:  2  es menor al numero aleatorio n :  5\n",
      "la variable c:  3  es menor al numero aleatorio n :  5\n",
      "la variable c:  4  es menor al numero aleatorio n :  5\n",
      "Estamos fuera del while, el numero c es igual al numero aleatorio\n"
     ]
    }
   ],
   "source": [
    "from random import randrange #importamos libreria randrange desde random \n",
    "\n",
    "n = randrange(5,10) #creamos un numero  aleatorio  en la variable n entre 5 y 10\n",
    "print(n) #imprimimos el numero\n",
    "c = 0 #creamos una variable con el numero 0\n",
    "\n",
    "while(c < n): #mientras c sea menor al numero aleatorio, entonces\n",
    "    print(\"la variable c: \",c,\" es menor al numero aleatorio n : \",n )\n",
    "    c = c+1 #aumentamos c para llegar a n\n",
    "    \n",
    "print(\"Estamos fuera del while, el numero c es igual al numero aleatorio\")"
   ]
  },
  {
   "cell_type": "markdown",
   "metadata": {},
   "source": [
    "**Sentencia For:** Esta sentencia ejecutará \"i\" veces como nosotros deseemos, las lineas de codigo dentro del for"
   ]
  },
  {
   "cell_type": "code",
   "execution_count": 35,
   "metadata": {},
   "outputs": [
    {
     "name": "stdout",
     "output_type": "stream",
     "text": [
      "Comienzo\n",
      "Hola, el valor i es   0\n",
      "Hola, el valor i es   1\n",
      "Hola, el valor i es   2\n",
      "Hola, el valor i es   3\n",
      "Hola, el valor i es   4\n",
      "Final\n"
     ]
    }
   ],
   "source": [
    "print(\"Comienzo\")\n",
    "for i in range(5): #desde i = 0 hasta 4, lo hace un total de 5 veces\n",
    "    print(\"Hola, el valor i es  \",i)\n",
    "print(\"Final\")"
   ]
  },
  {
   "cell_type": "markdown",
   "metadata": {},
   "source": [
    "## Matplotlib\n",
    "\n",
    "**Gráfico de barras:** \n",
    "\n",
    "Un gráfico de barras es una forma de resumir un conjunto de datos por categorías. Muestra los datos usando varias barras de la misma anchura, cada una de las cuales representa una categoría concreta. La altura de cada barra es proporcional a una agregación específica (por ejemplo, la suma de los valores de la categoría que representa). Las categorías podrían ser desde grupos de edad a ubicaciones geográficas. "
   ]
  },
  {
   "cell_type": "code",
   "execution_count": 6,
   "metadata": {},
   "outputs": [
    {
     "data": {
      "image/png": "[encoded data removed]",
      "text/plain": [
       "<Figure size 432x288 with 1 Axes>"
      ]
     },
     "metadata": {
      "needs_background": "light"
     },
     "output_type": "display_data"
    }
   ],
   "source": [
    "import matplotlib.pyplot as plt                 #importamos el modulo\n",
    " \n",
    "x= [12,10,23,12,14,15,18,20,22,31.6,26]         #Creamos una lista con datos\n",
    "\n",
    "plt.hist(x)                                     #Generamos el histograma\n",
    "plt.title(\"Histograma de frecuencia\")           #Titulo del gráfico\n",
    "plt.xlabel(\"Variable de interes\")               #Etiqueta del eje x\n",
    "plt.show()                                      #Desplegamos el resultado"
   ]
  },
  {
   "cell_type": "markdown",
   "metadata": {},
   "source": [
    "**Gráfico de dispersión:** \n",
    "\n",
    "Los gráficos de dispersión se usan para trazar puntos de datos en un eje vertical y uno horizontal, mediante lo que se trata de mostrar cuánto afecta una variable a otra.\n",
    "\n",
    "Cada fila de la tabla de datos la representa un indicador cuya posición depende de sus valores en las columnas que se establecen en los ejes X e Y. Se pueden usar varias escalas en el eje Y cuando se desea comparar varios indicadores con rangos de valor significativamente distintos. Se puede establecer una tercera variable para que se corresponda con el color o el tamaño (por ejemplo, un gráfico de burbujas) de los indicadores, lo que agregaría otra dimensión más al gráfico."
   ]
  },
  {
   "cell_type": "code",
   "execution_count": 12,
   "metadata": {},
   "outputs": [
    {
     "data": {
      "image/png": "[encoded data removed]",
      "text/plain": [
       "<Figure size 640x480 with 1 Axes>"
      ]
     },
     "metadata": {},
     "output_type": "display_data"
    }
   ],
   "source": [
    "import matplotlib.pyplot as plt             #importamos el modulo\n",
    "\n",
    "plt.style.use(['classic'])                  #Hoja de estilo\n",
    "\n",
    "x= [12,10,23,12,14,15,18,20,22,31.6,26]              #lista de la primera variable\n",
    "y= [0.5,0.55,0.6,0.4,0.3,0.35,0.45,0.36,0.28,0.2,0.1] #segunda variable\n",
    "\n",
    "plt.scatter(x,y)                                  #Generamos el dispersograma\n",
    "plt.title('Dispersograma')                        #Titulo del gráfico\n",
    "plt.xlabel('Variable eje x')                      #Etiqueta del eje x\n",
    "plt.ylabel('Variable eje y')                      #Etiqueta del eje y\n",
    "\n",
    "plt.show()                                        #Desplegamos el resultado\n"
   ]
  },
  {
   "cell_type": "markdown",
   "metadata": {},
   "source": [
    "**Gráfico de caja y bigotes:**  \n",
    "\n",
    "Un gráfico de cajas y bigotes es una manera conveniente de mostrar visualmente grupos de datos numéricos a través de sus cuartiles.\n",
    "\n",
    "Las líneas que se extienden paralelas a las cajas se conocen como «bigotes», y se usan para indicar variabilidad fuera de los cuartiles superior e inferior. Los valores atípicos se representan a veces como puntos individuales que están en línea con los bigotes. Los diagramas de cajas y bigotes se pueden dibujar vertical u horizontalmente. \n"
   ]
  },
  {
   "cell_type": "code",
   "execution_count": 13,
   "metadata": {},
   "outputs": [
    {
     "data": {
      "image/png": "[encoded data removed]",
      "text/plain": [
       "<Figure size 640x480 with 1 Axes>"
      ]
     },
     "metadata": {},
     "output_type": "display_data"
    }
   ],
   "source": [
    "import matplotlib.pyplot as plt            #importamos el modulo\n",
    "\n",
    "x= [12,10,23,12,14,15,18,20,22,31.6,26]    #Datos de la variable\n",
    "\n",
    "plt.boxplot(x)                             #Generamos el gráfico\n",
    "plt.title(\"Caja y bigote\")                 #Titulo del gráfico\n",
    "plt.xlabel(\"Variable\")                     #Etiqueta del eje x\n",
    "\n",
    "plt.show()                                 #Desplegamos el resultado\n"
   ]
  },
  {
   "cell_type": "markdown",
   "metadata": {},
   "source": [
    "### Con estos gráficos podemos realizar diversos estudios estadisticos, usando archivos de gran tamaño, uno de esos estudios es la __regresion lineal__.\n",
    "\n",
    "### Notación\n",
    "\n",
    "Antes de explicar el método de los mínimos cuadrados para resolver regresiones lineales, tenemos que expandir la notación. Debemos tener en cuenta que normalmente, tendremos muchas variables.\n",
    "\n",
    "Con una variable, la ecuación para la regresión lineal es:\n",
    "$$ y=wx+by = wx + b$$\n",
    "$$ y=wx+b $$\n",
    "\n",
    "Por conveniencia, vamos a reescribir la ecuación anterior:\n",
    "$$y=b+wxy = b + wx$$\n",
    "$$y=b+wx$$\n",
    "\n",
    "Cuando tengamos un dato con N variables, llamaremos al dato X. También tenemos que expandir los parámetros W para que cada parámetro vaya con una variable:\n",
    "$$ X=[x_0,x_1,x_2,...,xN]W=[w_0,w_1,w_2,...,wN]X = [x_0, x_1, x_2, ..., x_N] \\\\ W = [w_0, w_1, w_2, ..., w_N]$$\n",
    "$$ X=[x_0​,x_1​,x_2​,...,xN​]W=[w_0​,w_1​,w_2​,...,w_N​]$$\n",
    "\n",
    "Si hacemos que\n",
    "$$x0=1,w0=bx_0 = 1, w_0 = b$$\n",
    "$$x0​=1,w0​=b$$\n",
    "\n",
    "nos queda una expresión equivalente a la original. Podemos ver que:\n",
    "$$y=b+wx=w_0x_0+w_1x_1y = b + w_x = w_0 x_0 + w_1 x_1$$\n",
    "$$y=b+wx=w_0​x_0​+w_1​x_1​$$\n",
    "\n",
    "Para el caso general, la ecuación lineal quedaría:\n",
    "$$y=WXy = WX$$\n",
    "$$y=WX$$\n",
    "\n",
    "usando el producto matricial. Si tienes la multiplicación de matrices un poco oxidada, la versión intuitiva sería:\n",
    "$$y=w_0x_0+w_1x_1+w_2x_2+...+w_Nx_Ny = w_0 x_0 + w_1 x_1 + w_2 x_2 + ... + w_N x_N$$\n",
    "$$y=w_0​x_0​+w_1​x_1​+w_2​x_2​+...+wN​x_N​$$\n",
    "\n",
    "### La regresión lineal es un algoritmo de aprendizaje supervisado que se utiliza en Machine Learning y en estadística. En su versión más sencilla, lo que haremos es “dibujar una recta” que nos indicará la tendencia de un conjunto de datos continuos (si fueran discretos, utilizaríamos Regresión Logística).**\n",
    "## Regresión Lineal en Python \n",
    "\n",
    "Para hacer una regresión lineal en python, vamos a usar scikit-learn, que es una librería de python para aprendizaje automático. En particular, la clase LinearRegression implementa la funcionalidad descrita en la parte teórica de este artículo. Vamos a explicarlo con un ejemplo.\n",
    "\n",
    "## Ejemplo regresión lineal del ruido gaussiano\n",
    "\n",
    "### Datos de ejemplo\n",
    "\n",
    "Primero vamos a generar unos datos que siguen una línea, y le añadimos ruido gaussiano. Para ello usaremos la librería de python NumPy. \n",
    "\n",
    "La fórmula que he usado para generar los datos es:\n",
    "$$ y=0.1x+1.25+N(0,0.2)y = 0.1x + 1.25 + N(0, 0.2)$$\n",
    "$$ y=0.1x+1.25+N(0,0.2)$$"
   ]
  },
  {
   "cell_type": "code",
   "execution_count": 17,
   "metadata": {},
   "outputs": [
    {
     "data": {
      "image/png": "[encoded data removed]",
      "text/plain": [
       "<Figure size 640x480 with 1 Axes>"
      ]
     },
     "metadata": {},
     "output_type": "display_data"
    }
   ],
   "source": [
    "import numpy as np #Librería numérica\n",
    "import matplotlib.pyplot as plt # Para crear gráficos con matplotlib\n",
    "\n",
    "from sklearn.linear_model import LinearRegression #Regresión Lineal con scikit-learn\n",
    "def f(x):  # función f(x) = 0.1*x + 1.25 + 0.2*Ruido_Gaussiano\n",
    "    np.random.seed(42) # para poder reproducirlo\n",
    "    y = 0.1*x + 1.25 + 0.2*np.random.randn(x.shape[0])\n",
    "    return y\n",
    "x = np.arange(0, 20, 0.5) # generamos valores x de 0 a 20 en intervalos de 0.5\n",
    "y = f(x) # calculamos y a partir de la función que hemos generado\n",
    "# hacemos un gráfico de los datos que hemos generado\n",
    "plt.scatter(x,y,label='data', color='blue')\n",
    "plt.title('Datos');"
   ]
  },
  {
   "cell_type": "code",
   "execution_count": 18,
   "metadata": {},
   "outputs": [
    {
     "name": "stdout",
     "output_type": "stream",
     "text": [
      "w = [0.09183522], b = 1.2858792525736682\n"
     ]
    }
   ],
   "source": [
    "# Importamos la clase de Regresión Lineal de scikit-learn\n",
    "from sklearn.linear_model import LinearRegression \n",
    "regresion_lineal = LinearRegression() # creamos una instancia de LinearRegression\n",
    "# instruimos a la regresión lineal que aprenda de los datos (x,y)\n",
    "regresion_lineal.fit(x.reshape(-1,1), y) \n",
    "# vemos los parámetros que ha estimado la regresión lineal\n",
    "print('w = ' + str(regresion_lineal.coef_) + ', b = ' + str(regresion_lineal.intercept_))\n",
    "# resultado: w = [0.09183522], b = 1.2858792525736682"
   ]
  },
  {
   "cell_type": "markdown",
   "metadata": {},
   "source": [
    "Como vemos, la regresión lineal casi ha averiguado cómo hemos generado los datos:\n",
    "\n",
    "    * Estima 0.092 en lugar de 0.1 para w \n",
    "    * Estima 1.286 en vez de 1.25 para b\n",
    "\n",
    "Este pequeño error es normal debido a la cantidad de ruido gaussiano que hemos introducido y al hecho de que hay muy pocos datos. "
   ]
  },
  {
   "cell_type": "code",
   "execution_count": 20,
   "metadata": {},
   "outputs": [
    {
     "name": "stdout",
     "output_type": "stream",
     "text": [
      "[1.74505534]\n"
     ]
    }
   ],
   "source": [
    "# vamos a predicir y = regresion_lineal(5)\n",
    "nuevo_x = np.array([5]) \n",
    "prediccion = regresion_lineal.predict(nuevo_x.reshape(-1,1))\n",
    "print(prediccion)\n",
    "# resultado: [1.7449]"
   ]
  },
  {
   "cell_type": "markdown",
   "metadata": {},
   "source": [
    "Así vemos, que la estimación de la regresión lineal del modelo que acabamos de entrenar para x = 5 es y = 1.7449."
   ]
  },
  {
   "cell_type": "markdown",
   "metadata": {},
   "source": [
    "### Resumen tutorial\n",
    "\n",
    "Finalizado el tutorial podemos observar que el usar tecnologias de python y sus diversas librearias que lo hacen  un lenguaje de programación que ya es lider en diversos paises como los más usados para realizar estudios cientificos  y relacionados a la integencia articial, en este tutorial obtuvimos las herramientas necesarias para hacer un estudio rápido de regresión lineal a la ecuación del ruido gaussiano"
   ]
  },
  {
   "cell_type": "code",
   "execution_count": null,
   "metadata": {},
   "outputs": [],
   "source": []
  }
 ],
 "metadata": {
  "kernelspec": {
   "display_name": "Python 3",
   "language": "python",
   "name": "python3"
  },
  "language_info": {
   "codemirror_mode": {
    "name": "ipython",
    "version": 3
   },
   "file_extension": ".py",
   "mimetype": "text/x-python",
   "name": "python",
   "nbconvert_exporter": "python",
   "pygments_lexer": "ipython3",
   "version": "3.7.7"
  }
 },
 "nbformat": 4,
 "nbformat_minor": 4
}
