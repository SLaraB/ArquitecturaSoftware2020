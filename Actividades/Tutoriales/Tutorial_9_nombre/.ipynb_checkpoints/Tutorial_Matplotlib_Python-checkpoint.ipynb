{
 "cells": [
  {
   "cell_type": "markdown",
   "metadata": {},
   "source": [
    "# TUTORIAL LIBRERÍA MATPLOTLIB DE PYTHON\n",
    "## Por Sebastián Lara Barría\n",
    "### Arquitectura de Software, II Semestre 2020, UACh"
   ]
  },
  {
   "cell_type": "markdown",
   "metadata": {},
   "source": [
    "\n",
    "![Logo de Python](https://anthoncode.com/wp-content/uploads/2019/01/python-logo-png.png \"python logo\")\n",
    "\n",
    "![Logo de matplotlib](https://matplotlib.org/3.1.0/_images/sphx_glr_logos2_003.png \"matplotlib logo\")\n"
   ]
  },
  {
   "cell_type": "markdown",
   "metadata": {},
   "source": [
    "# Introducción\n",
    "\n",
    "###  ¿Que es Python?\n",
    "\n",
    "Python es un lenguaje de programación interpretado de tipado dinámico cuya filosofía hace hincapié en una sintaxis que favorezca un código legible. Se trata de un lenguaje de programación multiparadigma y disponible en varias plataformas.\n",
    "\n",
    "Dicho de otro modo, Python es:\n",
    "\n",
    "   * __Interpretado:__ Se ejecuta sin necesidad de ser procesado por el compilador y se detectan los errores en tiempo de ejecución.\n",
    "   * __Multiparadigma:__ Soporta programación funcional, programación imperativa y programación orientada a objetos.\n",
    "   * __Tipado dinámico:__ Las variables se comprueban en tiempo de ejecución.\n",
    "   * __Multiplataforma:__ disponible para plataformas de Windows, Linux o MAC.\n",
    "   * __Gratuito:__ No dispone de licencia para programar.\n",
    "### ¿Para que sirve la librería matplotlib?\n",
    "\n",
    "\n",
    "\n",
    "\n",
    "### Ventajas y Desventajas\n",
    "\n",
    "#### Ventajas:\n",
    "\n",
    "\n",
    "#### Desventajas:\n",
    "\n",
    "\n",
    "\n",
    "\n",
    "\n",
    "# Requisitos:\n",
    "\n",
    "* Requisitos mínimos de hardware\n",
    "\n",
    "    - Mínimo 256 MB RAM y 512 MB de memoria de intercambio por cada sitio de Plone.\n",
    "    - Mínimo 512 MB de espacio de disco dur\n",
    "\n",
    "* Requisitos del sistema operativo\n",
    "\n",
    "    - MS Windows XP o superior.\n",
    "    - Apple OSX 10.4.x o superior.\n",
    "    - GNU/Linux 2.6.x o superior.\n",
    "    - Python 2.6 (opcionalmente Python 2.7, para Plone 4.2 y superior).\n",
    "\n"
   ]
  },
  {
   "cell_type": "markdown",
   "metadata": {},
   "source": [
    "### Instalación en Ubuntu 20.04\n",
    "\n",
    "#### Python 3.7 , Pip3 y  Matplotlib \n",
    "\n",
    "Puedes fácilmente instalar Python 3.7 con los siguientes  comandos en una terminal abierta (Ctrl+Alt+T):\n",
    "\n",
    "``` ubuntu\n",
    "$ sudo apt-get update\n",
    "$ sudo apt-get install python3.7\n",
    "```\n",
    "Verificamos que se haya instalado correctamente con\n",
    "\n",
    "``` ubuntu\n",
    "$ python --version\n",
    "```\n",
    "\n",
    "Lo cual deberia mostrar en la terminal lo siguiente:\n",
    "\n",
    "``` ubuntu\n",
    "$ Python 3.7.7\n",
    "```\n",
    "\n",
    "Para instalar la libreríá Matplotlib primero necesitamos Pip3 de Python, para ello en una terminal ejecutamos el siguiente comando: \n",
    "\n",
    "``` ubuntu\n",
    "$ apt install python3-pip3\n",
    "```\n",
    "\n",
    "Luego procedemos a instalar la librería con el siguiente comando:\n",
    "\n",
    "``` ubuntu\n",
    "$  pip3 install matplotlib\n",
    "```\n",
    "\n",
    "Finalizado esto podemos utilizar python3.7 , pip3 y matplotlib\n",
    "\n",
    "\n"
   ]
  },
  {
   "cell_type": "markdown",
   "metadata": {},
   "source": [
    "## Breve introducción a Python\n",
    "\n",
    "### * Operaciones aritmeticas: \n"
   ]
  },
  {
   "cell_type": "code",
   "execution_count": 8,
   "metadata": {},
   "outputs": [
    {
     "data": {
      "text/plain": [
       "8"
      ]
     },
     "execution_count": 8,
     "metadata": {},
     "output_type": "execute_result"
    }
   ],
   "source": [
    "5+3"
   ]
  },
  {
   "cell_type": "code",
   "execution_count": 9,
   "metadata": {},
   "outputs": [
    {
     "data": {
      "text/plain": [
       "8"
      ]
     },
     "execution_count": 9,
     "metadata": {},
     "output_type": "execute_result"
    }
   ],
   "source": [
    "10-2"
   ]
  },
  {
   "cell_type": "code",
   "execution_count": 10,
   "metadata": {},
   "outputs": [
    {
     "data": {
      "text/plain": [
       "40"
      ]
     },
     "execution_count": 10,
     "metadata": {},
     "output_type": "execute_result"
    }
   ],
   "source": [
    "8*5"
   ]
  },
  {
   "cell_type": "code",
   "execution_count": 13,
   "metadata": {},
   "outputs": [
    {
     "data": {
      "text/plain": [
       "25.0"
      ]
     },
     "execution_count": 13,
     "metadata": {},
     "output_type": "execute_result"
    }
   ],
   "source": [
    "50/2"
   ]
  },
  {
   "cell_type": "markdown",
   "metadata": {},
   "source": [
    "### * Operaciones booleanas:\n",
    "\n"
   ]
  },
  {
   "cell_type": "code",
   "execution_count": 14,
   "metadata": {},
   "outputs": [
    {
     "data": {
      "text/plain": [
       "False"
      ]
     },
     "execution_count": 14,
     "metadata": {},
     "output_type": "execute_result"
    }
   ],
   "source": [
    "5<3"
   ]
  },
  {
   "cell_type": "code",
   "execution_count": 15,
   "metadata": {},
   "outputs": [
    {
     "data": {
      "text/plain": [
       "True"
      ]
     },
     "execution_count": 15,
     "metadata": {},
     "output_type": "execute_result"
    }
   ],
   "source": [
    "5>3"
   ]
  },
  {
   "cell_type": "markdown",
   "metadata": {},
   "source": [
    "### * Sentencias If/Else,While,For:"
   ]
  },
  {
   "cell_type": "markdown",
   "metadata": {},
   "source": [
    "**Sentencia If/Else**: Estas sentencias corresponden a las sentencias básicas de todo lenguaje de programación, la cual ejecuta ciertas operaciones si en resultado es True dentro de su argumento o hace otra operacion en caso de ser False ."
   ]
  },
  {
   "cell_type": "code",
   "execution_count": 31,
   "metadata": {},
   "outputs": [
    {
     "name": "stdout",
     "output_type": "stream",
     "text": [
      "5\n",
      "7\n",
      "Felicidades\n"
     ]
    }
   ],
   "source": [
    "from random import randrange #importamos libreria randrange desde random \n",
    "\n",
    "n = randrange(10) #creamos un numero  aleatorio  en la variable n \n",
    "m = randrange(10) #creamos otro numero aleatorio en la variable m\n",
    "print(n) #imprimimos el primer numero\n",
    "print(m) #imprimimos el segundo numero\n",
    "if (n < m ): #si el primer numero es menor al segundo, entonces \n",
    "    print(\"Felicidades\") #imprimimos felicidades\n",
    "else: #sino, entonces\n",
    "    print(\"Siga participando\") #imprimimos siga participando\n",
    "\n"
   ]
  },
  {
   "cell_type": "markdown",
   "metadata": {},
   "source": [
    "**Sentencia While:** Esta sentencia corresponde a mientras (while) ocurre lo que está dentro de los parametros entegados se ejecutan las lineas dentro del While"
   ]
  },
  {
   "cell_type": "code",
   "execution_count": 30,
   "metadata": {},
   "outputs": [
    {
     "name": "stdout",
     "output_type": "stream",
     "text": [
      "5\n",
      "la variable c:  0  es menor al numero aleatorio n :  5\n",
      "la variable c:  1  es menor al numero aleatorio n :  5\n",
      "la variable c:  2  es menor al numero aleatorio n :  5\n",
      "la variable c:  3  es menor al numero aleatorio n :  5\n",
      "la variable c:  4  es menor al numero aleatorio n :  5\n",
      "Estamos fuera del while, el numero c es igual al numero aleatorio\n"
     ]
    }
   ],
   "source": [
    "from random import randrange #importamos libreria randrange desde random \n",
    "\n",
    "n = randrange(5,10) #creamos un numero  aleatorio  en la variable n entre 5 y 10\n",
    "print(n) #imprimimos el numero\n",
    "c = 0 #creamos una variable con el numero 0\n",
    "\n",
    "while(c < n): #mientras c sea menor al numero aleatorio, entonces\n",
    "    print(\"la variable c: \",c,\" es menor al numero aleatorio n : \",n )\n",
    "    c = c+1 #aumentamos c para llegar a n\n",
    "    \n",
    "print(\"Estamos fuera del while, el numero c es igual al numero aleatorio\")"
   ]
  },
  {
   "cell_type": "markdown",
   "metadata": {},
   "source": [
    "**Sentencia For:** Esta sentencia ejecutara tantas veces como nosotros deseemos las lineas de codigo dentro del For"
   ]
  },
  {
   "cell_type": "code",
   "execution_count": 35,
   "metadata": {},
   "outputs": [
    {
     "name": "stdout",
     "output_type": "stream",
     "text": [
      "Comienzo\n",
      "Hola, el valor i es   0\n",
      "Hola, el valor i es   1\n",
      "Hola, el valor i es   2\n",
      "Hola, el valor i es   3\n",
      "Hola, el valor i es   4\n",
      "Final\n"
     ]
    }
   ],
   "source": [
    "print(\"Comienzo\")\n",
    "for i in range(5): #desde i = 0 hasta 4, lo hace un total de 5 veces\n",
    "    print(\"Hola, el valor i es  \",i)\n",
    "print(\"Final\")"
   ]
  },
  {
   "cell_type": "code",
   "execution_count": null,
   "metadata": {},
   "outputs": [],
   "source": []
  }
 ],
 "metadata": {
  "kernelspec": {
   "display_name": "Python 3",
   "language": "python",
   "name": "python3"
  },
  "language_info": {
   "codemirror_mode": {
    "name": "ipython",
    "version": 3
   },
   "file_extension": ".py",
   "mimetype": "text/x-python",
   "name": "python",
   "nbconvert_exporter": "python",
   "pygments_lexer": "ipython3",
   "version": "3.7.7"
  }
 },
 "nbformat": 4,
 "nbformat_minor": 4
}
