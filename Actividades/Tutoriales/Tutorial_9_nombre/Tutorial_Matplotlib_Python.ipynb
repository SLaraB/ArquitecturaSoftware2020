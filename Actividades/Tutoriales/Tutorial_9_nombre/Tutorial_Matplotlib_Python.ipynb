{
 "cells": [
  {
   "cell_type": "markdown",
   "metadata": {},
   "source": [
    "# TUTORIAL LIBRERÍA MATPLOTLIB DE PYTHON\n",
    "## Por Sebastián Lara Barría\n",
    "### Arquitectura de Software, II Semestre 2020, UACh"
   ]
  },
  {
   "cell_type": "markdown",
   "metadata": {},
   "source": [
    "\n",
    "![Logo de Python](https://anthoncode.com/wp-content/uploads/2019/01/python-logo-png.png \"python logo\")\n",
    "\n",
    "![Logo de matplotlib](https://matplotlib.org/3.1.0/_images/sphx_glr_logos2_003.png \"matplotlib logo\")\n"
   ]
  },
  {
   "cell_type": "markdown",
   "metadata": {},
   "source": [
    "# Introducción\n",
    "\n",
    "###  ¿Que es Python?\n",
    "\n",
    "\n",
    "### ¿Para que sirve la librería matplotlib?\n",
    "\n",
    "\n",
    "\n",
    "\n",
    "### Ventajas y Desventajas\n",
    "\n",
    "#### Ventajas:\n",
    "\n",
    "\n",
    "#### Desventajas:\n",
    "\n",
    "\n",
    "\n",
    "\n",
    "\n",
    "# Requisitos:\n",
    "\n",
    "\n"
   ]
  },
  {
   "cell_type": "code",
   "execution_count": null,
   "metadata": {},
   "outputs": [],
   "source": []
  }
 ],
 "metadata": {
  "kernelspec": {
   "display_name": "Python 3",
   "language": "python",
   "name": "python3"
  },
  "language_info": {
   "codemirror_mode": {
    "name": "ipython",
    "version": 3
   },
   "file_extension": ".py",
   "mimetype": "text/x-python",
   "name": "python",
   "nbconvert_exporter": "python",
   "pygments_lexer": "ipython3",
   "version": "3.7.7"
  }
 },
 "nbformat": 4,
 "nbformat_minor": 4
}
